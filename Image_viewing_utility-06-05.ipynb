{
 "cells": [
  {
   "cell_type": "markdown",
   "source": [
    "# Utility to view image files sequentially\n",
    "\n",
    "1. Download the images from the One-Drive link shared over e-mail.\n",
    "1. Click within a cell and press Ctrl + Enter to execute the cell.\n",
    "2. You can view the auto-annotated images sequentially from here"
   ],
   "metadata": {
    "collapsed": false,
    "pycharm": {
     "name": "#%% md\n"
    }
   }
  },
  {
   "cell_type": "code",
   "execution_count": 1,
   "outputs": [],
   "source": [
    "# Step-1: Copy path to the downloaded folder and paste in the input prompt \n",
    "image_dir = input()"
   ],
   "metadata": {
    "collapsed": false,
    "pycharm": {
     "name": "#%%\n"
    }
   }
  },
  {
   "cell_type": "code",
   "execution_count": null,
   "outputs": [],
   "source": [
    "# Step-2: The album will launch on pressing Ctrl + Enter\n",
    "# Press Esc to view next image, click Stop in this notebook to end show\n",
    "\n",
    "def customDisplay_file(arg: str = None):\n",
    "\t\"\"\"\n",
    "\tReads a file and renders with file name in window title\n",
    "\t\"\"\"\n",
    "\tif not os.path.isfile(arg):\n",
    "\t\traise TypeError(f'{arg} is not a file object')\n",
    "\n",
    "\tif not str.lower(os.path.splitext(arg)[1]) in [\".jpeg\" , \".png\" , \".jpg\", ]:\n",
    "\t\traise TypeError(f'file extn must be one of .jpg, .jpeg, .png')\n",
    "\n",
    "\t_fname = os.path.basename(arg)\n",
    "\n",
    "\t_imgcv = cv2.imread(arg)\n",
    "\n",
    "\twhile True:\n",
    "\t\tcv2.namedWindow(_fname , cv2.WINDOW_NORMAL)\n",
    "\t\tcv2.imshow(_fname , _imgcv)\n",
    "\t\tif cv2.waitKey(0) & 0xff == 27:\n",
    "\t\t\tcv2.destroyAllWindows()\n",
    "\t\t\tcv2.waitKey(1)\n",
    "\t\t\tbreak\n",
    "\n",
    "if __name__ ==\"__main__\":\n",
    "\timg_list = list(filter(lambda x: str.lower(os.path.splitext(x)[1])=='.png',os.listdir(OUTPUT_PATH)))\n",
    "\tfor i in img_list:\n",
    "\t\tcustomDisplay_file(os.path.join(image_dir,i))\n"
   ],
   "metadata": {
    "collapsed": false,
    "pycharm": {
     "name": "#%%\n"
    }
   }
  }
 ],
 "metadata": {
  "kernelspec": {
   "display_name": "Python 3",
   "language": "python",
   "name": "python3"
  },
  "language_info": {
   "codemirror_mode": {
    "name": "ipython",
    "version": 3
   },
   "file_extension": ".py",
   "mimetype": "text/x-python",
   "name": "python",
   "nbconvert_exporter": "python",
   "pygments_lexer": "ipython3",
   "version": "3.8.0"
  }
 },
 "nbformat": 4,
 "nbformat_minor": 1
}